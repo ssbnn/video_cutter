{
 "cells": [
  {
   "cell_type": "code",
   "execution_count": 2,
   "metadata": {},
   "outputs": [],
   "source": [
    "import numpy as np\n",
    "import cv2 as cv"
   ]
  },
  {
   "cell_type": "code",
   "execution_count": 3,
   "metadata": {},
   "outputs": [
    {
     "name": "stdout",
     "output_type": "stream",
     "text": [
      "origin img (1985, 1985, 3) is changed to fixed img (640, 608, 3)\n"
     ]
    }
   ],
   "source": [
    "img = cv.imread('jump.png')\n",
    "\n",
    "len = 640\n",
    "width = 608\n",
    "\n",
    "newim = cv.resize(img, (width, len)) #dsize first is len, second is width Q. why insert width and height, not height and width?\n",
    "\n",
    "cv.imwrite('fixed.png', newim)\n",
    "fixedim = cv.imread('fixed.png')\n",
    "print('origin img',img.shape, 'is changed to fixed img', fixedim.shape)# height, width, channel (chanel 3 is color, 1 is black white)\n"
   ]
  },
  {
   "cell_type": "code",
   "execution_count": 4,
   "metadata": {},
   "outputs": [
    {
     "name": "stdout",
     "output_type": "stream",
     "text": [
      "[[[237 237 237]\n",
      "  [237 237 237]\n",
      "  [236 236 236]\n",
      "  ...\n",
      "  [237 237 237]\n",
      "  [237 237 237]\n",
      "  [237 237 237]]\n",
      "\n",
      " [[237 237 237]\n",
      "  [237 237 237]\n",
      "  [237 237 237]\n",
      "  ...\n",
      "  [237 237 237]\n",
      "  [237 237 237]\n",
      "  [237 237 237]]\n",
      "\n",
      " [[237 237 237]\n",
      "  [237 237 237]\n",
      "  [237 237 237]\n",
      "  ...\n",
      "  [237 237 237]\n",
      "  [237 237 237]\n",
      "  [237 237 237]]\n",
      "\n",
      " ...\n",
      "\n",
      " [[238 236 235]\n",
      "  [238 236 235]\n",
      "  [238 236 235]\n",
      "  ...\n",
      "  [238 236 235]\n",
      "  [238 236 235]\n",
      "  [238 236 235]]\n",
      "\n",
      " [[238 236 235]\n",
      "  [238 236 235]\n",
      "  [238 236 235]\n",
      "  ...\n",
      "  [238 236 235]\n",
      "  [238 236 235]\n",
      "  [238 236 235]]\n",
      "\n",
      " [[238 236 235]\n",
      "  [238 236 235]\n",
      "  [238 236 235]\n",
      "  ...\n",
      "  [238 236 235]\n",
      "  [238 236 235]\n",
      "  [238 236 235]]]\n"
     ]
    }
   ],
   "source": [
    "#background remover\n",
    "\n",
    "test = cv.imread('test.png')\n",
    "print(test)"
   ]
  },
  {
   "cell_type": "code",
   "execution_count": null,
   "metadata": {},
   "outputs": [],
   "source": []
  }
 ],
 "metadata": {
  "kernelspec": {
   "display_name": "Python 3.9.5 64-bit",
   "language": "python",
   "name": "python3"
  },
  "language_info": {
   "codemirror_mode": {
    "name": "ipython",
    "version": 3
   },
   "file_extension": ".py",
   "mimetype": "text/x-python",
   "name": "python",
   "nbconvert_exporter": "python",
   "pygments_lexer": "ipython3",
   "version": "3.9.5"
  },
  "orig_nbformat": 4,
  "vscode": {
   "interpreter": {
    "hash": "c5e828394cddfe9734a8a74623d2f1dc02dc704a715c426310168382ff9c4f60"
   }
  }
 },
 "nbformat": 4,
 "nbformat_minor": 2
}
