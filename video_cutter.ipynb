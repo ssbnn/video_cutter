{
 "cells": [
  {
   "cell_type": "code",
   "execution_count": 3,
   "metadata": {},
   "outputs": [],
   "source": [
    "import numpy as np\n",
    "import cv2 as cv\n",
    "import os"
   ]
  },
  {
   "cell_type": "code",
   "execution_count": 6,
   "metadata": {},
   "outputs": [
    {
     "name": "stdout",
     "output_type": "stream",
     "text": [
      "total frame is 12\n"
     ]
    }
   ],
   "source": [
    "cap = cv.VideoCapture('ame_1.mp4') #insert video's name\n",
    "count = 0\n",
    "\n",
    "tail = os.path.basename(\"./ame_1.mp4\")\n",
    "dirname, extension = os.path.splitext(tail)\n",
    "if not os.path.isdir(dirname):\n",
    "    os.mkdir(dirname)\n",
    "\n",
    "while True:\n",
    "    ret, frame = cap.read()\n",
    "    if not ret:\n",
    "        break\n",
    "    fname = f'{count:05d}.png'\n",
    "    path = os.path.join(dirname, fname)\n",
    "    cv.imwrite(path, frame)\n",
    "    count += 1\n",
    "print('total frame is', count-1)"
   ]
  }
 ],
 "metadata": {
  "interpreter": {
   "hash": "c5e828394cddfe9734a8a74623d2f1dc02dc704a715c426310168382ff9c4f60"
  },
  "kernelspec": {
   "display_name": "Python 3.9.5 64-bit",
   "language": "python",
   "name": "python3"
  },
  "language_info": {
   "codemirror_mode": {
    "name": "ipython",
    "version": 3
   },
   "file_extension": ".py",
   "mimetype": "text/x-python",
   "name": "python",
   "nbconvert_exporter": "python",
   "pygments_lexer": "ipython3",
   "version": "3.9.5"
  },
  "orig_nbformat": 4
 },
 "nbformat": 4,
 "nbformat_minor": 2
}
