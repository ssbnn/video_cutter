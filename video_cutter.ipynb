{
 "cells": [
  {
   "cell_type": "code",
   "execution_count": 11,
   "metadata": {},
   "outputs": [],
   "source": [
    "import numpy as np\n",
    "import cv2 as cv\n",
    "import os"
   ]
  },
  {
   "cell_type": "code",
   "execution_count": 12,
   "metadata": {},
   "outputs": [
    {
     "name": "stdout",
     "output_type": "stream",
     "text": [
      "total frame is 8\n"
     ]
    }
   ],
   "source": [
    "cap = cv.VideoCapture('ame_1.mp4') #insert video's name\n",
    "count = 0\n",
    "\n",
    "tail = os.path.basename(\"./ame_1.mp4\")\n",
    "dirname, extension = os.path.splitext(tail)\n",
    "if not os.path.isdir(dirname):\n",
    "    os.mkdir(dirname)\n",
    "\n",
    "while True:\n",
    "    ret, frame = cap.read()\n",
    "    if not ret:\n",
    "        break\n",
    "    fname = f'{count:05d}.png'\n",
    "    path = os.path.join(dirname, fname)\n",
    "    cv.imwrite(path, frame)\n",
    "    count += 1\n",
    "print('total frame is', count-1)"
   ]
  },
  {
   "cell_type": "code",
   "execution_count": null,
   "metadata": {},
   "outputs": [],
   "source": [
    "\n",
    "\n"
   ]
  }
 ],
 "metadata": {
  "kernelspec": {
   "display_name": "Python 3.7.8 64-bit",
   "language": "python",
   "name": "python3"
  },
  "language_info": {
   "codemirror_mode": {
    "name": "ipython",
    "version": 3
   },
   "file_extension": ".py",
   "mimetype": "text/x-python",
   "name": "python",
   "nbconvert_exporter": "python",
   "pygments_lexer": "ipython3",
   "version": "3.7.8"
  },
  "orig_nbformat": 4,
  "vscode": {
   "interpreter": {
    "hash": "86c2981238e11cbb24e1d63361acb93c13fdfbee26af130ee22f77ee7a0ca74b"
   }
  }
 },
 "nbformat": 4,
 "nbformat_minor": 2
}
